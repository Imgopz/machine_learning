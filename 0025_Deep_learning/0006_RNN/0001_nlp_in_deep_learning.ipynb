{
 "cells": [
  {
   "cell_type": "markdown",
   "metadata": {},
   "source": [
    "### NLP in Deep Learning\n",
    "\n",
    "1. OHE\n",
    "2. BOW\n",
    "3. TF-IDF\n",
    "4. Word2Vec, AvgWord2Vec\n",
    "\n",
    "\n",
    "{ Sentiment Analysis & Text Classification }"
   ]
  },
  {
   "cell_type": "markdown",
   "metadata": {},
   "source": [
    "#### ANN -> Artificial Neural Network \n",
    "\n",
    "1. Classification\n",
    "2. Regression\n",
    "\n",
    "{ Tabular Data }\n",
    "\n",
    "Squence of features does not matter, in ANN"
   ]
  },
  {
   "cell_type": "markdown",
   "metadata": {},
   "source": [
    "#### CNN -> Convolutional Neural Network\n",
    "\n",
    "1. Images\n",
    "2. Video frames\n",
    "\n",
    "{ Image classfications, Object detection, Yolo, CRNN}"
   ]
  },
  {
   "cell_type": "markdown",
   "metadata": {},
   "source": [
    "#### RNN -> Recurrent Neural Network\n",
    "\n",
    "Sequential Data \n",
    "\n",
    "1. Text Generation\n",
    "\n",
    "  - I/P: This is an Apple _____ \n",
    "  - O/P: This is an Apple Juice\n",
    "\n",
    "Here the sequence of the data that is words are important, that is the context of the sentence will be important.\n",
    "\n",
    "2. Chat bot conversation -> Question & Answering\n",
    "\n",
    "Here to the context of the question should be important, its based on the sequence of the words.\n",
    "\n",
    "3. Language translation\n",
    "\n",
    "4. Auto suggestions\n",
    "\n",
    "5. Sales Data -> Datetime, sales forcasting (Time series Data)"
   ]
  },
  {
   "cell_type": "markdown",
   "metadata": {},
   "source": [
    "#### Can we solve sequential data with ANN ?\n",
    "\n"
   ]
  },
  {
   "cell_type": "markdown",
   "metadata": {},
   "source": [
    "For ANN order of words does not matter, it will turn all the words into vector and do the calculations, the sequence to the data is not preserved. So that the meaning of the sentence is lost. Also we give all the features for the single sentence at once to ANN. Simple RNN can be used to solve this problem that is for sequential input data."
   ]
  },
  {
   "cell_type": "markdown",
   "metadata": {},
   "source": [
    "#### Simple RNN Intution"
   ]
  },
  {
   "cell_type": "code",
   "execution_count": 10,
   "metadata": {},
   "outputs": [
    {
     "data": {
      "text/html": [
       "<img src=\"simple_rnn.png\" width=\"200\"/>"
      ],
      "text/plain": [
       "<IPython.core.display.Image object>"
      ]
     },
     "execution_count": 10,
     "metadata": {},
     "output_type": "execute_result"
    }
   ],
   "source": [
    "# import image module \n",
    "from IPython.display import Image  \n",
    "# get the image \n",
    "Image(url=\"simple_rnn.png\", width=200) "
   ]
  },
  {
   "cell_type": "code",
   "execution_count": 7,
   "metadata": {},
   "outputs": [
    {
     "data": {
      "text/html": [
       "<img src=\"rnn.png\" width=\"600\"/>"
      ],
      "text/plain": [
       "<IPython.core.display.Image object>"
      ]
     },
     "execution_count": 7,
     "metadata": {},
     "output_type": "execute_result"
    }
   ],
   "source": [
    "# import image module \n",
    "from IPython.display import Image  \n",
    "# get the image \n",
    "Image(url=\"rnn.png\", width=600) "
   ]
  },
  {
   "cell_type": "code",
   "execution_count": 9,
   "metadata": {},
   "outputs": [
    {
     "data": {
      "text/html": [
       "<img src=\"rnn_unfold.png\" width=\"600\"/>"
      ],
      "text/plain": [
       "<IPython.core.display.Image object>"
      ]
     },
     "execution_count": 9,
     "metadata": {},
     "output_type": "execute_result"
    }
   ],
   "source": [
    "# import image module \n",
    "from IPython.display import Image  \n",
    "# get the image \n",
    "Image(url=\"rnn_unfold.png\", width=600) "
   ]
  }
 ],
 "metadata": {
  "kernelspec": {
   "display_name": "venv",
   "language": "python",
   "name": "python3"
  },
  "language_info": {
   "codemirror_mode": {
    "name": "ipython",
    "version": 3
   },
   "file_extension": ".py",
   "mimetype": "text/x-python",
   "name": "python",
   "nbconvert_exporter": "python",
   "pygments_lexer": "ipython3",
   "version": "3.11.0"
  }
 },
 "nbformat": 4,
 "nbformat_minor": 2
}
