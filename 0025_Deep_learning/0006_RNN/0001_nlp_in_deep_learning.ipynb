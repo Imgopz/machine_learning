{
 "cells": [
  {
   "cell_type": "markdown",
   "metadata": {},
   "source": [
    "### NLP in Deep Learning\n",
    "\n",
    "1. OHE\n",
    "2. BOW\n",
    "3. TF-IDF\n",
    "4. Word2Vec, AvgWord2Vec\n",
    "\n",
    "\n",
    "{ Sentiment Analysis & Text Classification }"
   ]
  },
  {
   "cell_type": "markdown",
   "metadata": {},
   "source": [
    "#### ANN -> Artificial Neural Network \n",
    "\n",
    "1. Classification\n",
    "2. Regression\n",
    "\n",
    "{ Tabular Data }\n",
    "\n",
    "Squence of features does not matter, in ANN"
   ]
  },
  {
   "cell_type": "markdown",
   "metadata": {},
   "source": [
    "#### CNN -> Convolutional Neural Network\n",
    "\n",
    "1. Images\n",
    "2. Video frames\n",
    "\n",
    "{ Image classfications, Object detection, Yolo, CRNN}"
   ]
  },
  {
   "cell_type": "markdown",
   "metadata": {},
   "source": [
    "#### RNN -> Recurrent Neural Network\n",
    "\n",
    "Sequential Data \n",
    "\n",
    "1. Text Generation\n",
    "\n",
    "  - I/P: This is an Apple _____ \n",
    "  - O/P: This is an Apple Juice\n",
    "\n",
    "Here the sequence of the data that is words are important, that is the context of the sentence will be important.\n",
    "\n",
    "2. Chat bot conversation -> Question & Answering\n",
    "\n",
    "Here to the context of the question should be important, its based on the sequence of the words.\n",
    "\n",
    "3. Language translation\n",
    "\n",
    "4. Auto suggestions\n",
    "\n",
    "5. Sales Data -> Datetime, sales forcasting (Time series Data)"
   ]
  }
 ],
 "metadata": {
  "language_info": {
   "name": "python"
  }
 },
 "nbformat": 4,
 "nbformat_minor": 2
}
