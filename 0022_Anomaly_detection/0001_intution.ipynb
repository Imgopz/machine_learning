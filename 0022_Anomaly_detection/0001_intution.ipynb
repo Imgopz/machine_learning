{
 "cells": [
  {
   "cell_type": "code",
   "execution_count": 3,
   "metadata": {},
   "outputs": [
    {
     "data": {
      "text/html": [
       "<img src=\"intro.png\" width=\"600\"/>"
      ],
      "text/plain": [
       "<IPython.core.display.Image object>"
      ]
     },
     "execution_count": 3,
     "metadata": {},
     "output_type": "execute_result"
    }
   ],
   "source": [
    "# import image module \n",
    "from IPython.display import Image  \n",
    "# get the image \n",
    "Image(url=\"intro.png\", width=600) "
   ]
  },
  {
   "cell_type": "markdown",
   "metadata": {},
   "source": [
    "Type:\n",
    "\n",
    "- Isolation forest (Decision Trees) - Every data point the leaf node will be created.\n",
    "- Findout anomaly score for each point, and check if its beyond the threshold, and it can be treated as anomaly."
   ]
  },
  {
   "cell_type": "code",
   "execution_count": 6,
   "metadata": {},
   "outputs": [
    {
     "data": {
      "text/html": [
       "<img src=\"anomaly_score.png\" width=\"300\"/>"
      ],
      "text/plain": [
       "<IPython.core.display.Image object>"
      ]
     },
     "execution_count": 6,
     "metadata": {},
     "output_type": "execute_result"
    }
   ],
   "source": [
    "# import image module \n",
    "from IPython.display import Image  \n",
    "# get the image \n",
    "Image(url=\"anomaly_score.png\", width=300) "
   ]
  },
  {
   "cell_type": "markdown",
   "metadata": {},
   "source": [
    "$ \\text{m} = \\text{no. of data points} $\n",
    "\n",
    "$ \\text{x} = \\text{data point} $\n",
    "\n",
    "$ \\text{h(x)} = \\text{Average search depth for x from the isolated tree} $\n",
    "\n",
    "$ \\text{c(m)} = \\text{Average depth of h(x) from the isolated tree} $\n",
    "\n",
    "$ \\text{ if E(h(x))} << \\text{c(m) \\text{ => } \\text{S(x,m) ~ 1 => Anomaly Score => Outliers} } $\n",
    "\n",
    "$ \\text{ if E(h(x))} << \\text{c(m) \\text{ => } \\text{S(x,m) <= 0.5 => Anomaly Score => Normal data point} } $\n",
    "\n",
    "We can even set threshold to be greater than some value, eg. > 0.5\n",
    "\n",
    "\n",
    "Create many trees based on different features, and for different depth"
   ]
  },
  {
   "cell_type": "code",
   "execution_count": null,
   "metadata": {},
   "outputs": [],
   "source": []
  }
 ],
 "metadata": {
  "kernelspec": {
   "display_name": "base",
   "language": "python",
   "name": "python3"
  },
  "language_info": {
   "codemirror_mode": {
    "name": "ipython",
    "version": 3
   },
   "file_extension": ".py",
   "mimetype": "text/x-python",
   "name": "python",
   "nbconvert_exporter": "python",
   "pygments_lexer": "ipython3",
   "version": "3.12.7"
  }
 },
 "nbformat": 4,
 "nbformat_minor": 2
}
