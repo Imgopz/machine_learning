{
 "cells": [
  {
   "cell_type": "markdown",
   "metadata": {},
   "source": [
    "### Gradient Boosting"
   ]
  },
  {
   "cell_type": "markdown",
   "metadata": {},
   "source": [
    "1. Create a Base Model (Take avg of output) -> this will be output for all the input for this base model (y^)\n",
    "2. Compute the residuals or error (R1) (y - y^)\n",
    "3. Construct a Decision Tree considering inputs x(i) and o/p as R(i) {Residuals or errors} (R2)\n",
    "4. Calculate updated y^' = y^ + alpha * (R1)  { alpha between 0 to 1}\n",
    "5. Calculate the residual (R3) (y - y^')\n",
    "6. Construct a Decision Tree considering inputs x(i) and o/p as R3(i) and get R4\n",
    "7. and so on"
   ]
  },
  {
   "cell_type": "code",
   "execution_count": 2,
   "metadata": {},
   "outputs": [
    {
     "data": {
      "text/html": [
       "<img src=\"gradient_booosting.png\" width=\"400\"/>"
      ],
      "text/plain": [
       "<IPython.core.display.Image object>"
      ]
     },
     "execution_count": 2,
     "metadata": {},
     "output_type": "execute_result"
    }
   ],
   "source": [
    "# import image module \n",
    "from IPython.display import Image  \n",
    "# get the image \n",
    "Image(url=\"gradient_booosting.png\", width=400) "
   ]
  },
  {
   "cell_type": "markdown",
   "metadata": {},
   "source": [
    "y(pred) = y1 + (eta *  r1) + (eta * r2) + ....... + (eta * rN)"
   ]
  },
  {
   "cell_type": "markdown",
   "metadata": {},
   "source": [
    "\n",
    "$f_i(x)$ = $\\sum_{i=0}^n \\alpha_i h_i(x)$"
   ]
  }
 ],
 "metadata": {
  "kernelspec": {
   "display_name": "base",
   "language": "python",
   "name": "python3"
  },
  "language_info": {
   "codemirror_mode": {
    "name": "ipython",
    "version": 3
   },
   "file_extension": ".py",
   "mimetype": "text/x-python",
   "name": "python",
   "nbconvert_exporter": "python",
   "pygments_lexer": "ipython3",
   "version": "3.12.7"
  }
 },
 "nbformat": 4,
 "nbformat_minor": 2
}
