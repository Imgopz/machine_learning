{
 "cells": [
  {
   "cell_type": "markdown",
   "metadata": {},
   "source": [
    "### Named Entity Recognition"
   ]
  },
  {
   "cell_type": "markdown",
   "metadata": {},
   "source": [
    "#### Named Entity Tags\n",
    "1. PERSON: People, including fictional characters or historical figures.\n",
    "    - Example: John, Albert Einstein, Shakespeare\n",
    "2. ORG: Organizations, companies, institutions, or government agencies.\n",
    "    - Example: Google, United Nations, Harvard University\n",
    "3. GPE: Geopolitical entities, including countries, cities, states, and regions.\n",
    "    - Example: India, New York, California\n",
    "4. LOC: Locations, including mountains, rivers, and other geographical features.\n",
    "    - Example: Himalayas, Amazon River, Mount Everest\n",
    "5. FAC: Facilities, including buildings, airports, highways, bridges, etc.\n",
    "    - Example: Eiffel Tower, London Heathrow Airport, Golden Gate Bridge\n",
    "6. DATE: Dates or time expressions.\n",
    "    - Example: January 1, 2025, Monday, 1990s\n",
    "7. TIME: Specific times or time periods (not dates).\n",
    "    - Example: 3 PM, noon, morning\n"
   ]
  },
  {
   "cell_type": "code",
   "execution_count": 1,
   "metadata": {},
   "outputs": [],
   "source": [
    "sentence=\"The Eiffel Tower was built from 1887 to 1889 by Gustave Eiffel, whose company specialized in building metal frameworks and structures.\"\n"
   ]
  },
  {
   "cell_type": "code",
   "execution_count": 2,
   "metadata": {},
   "outputs": [],
   "source": [
    "import nltk\n",
    "words=nltk.word_tokenize(sentence)"
   ]
  },
  {
   "cell_type": "code",
   "execution_count": 3,
   "metadata": {},
   "outputs": [],
   "source": [
    "tag_elements=nltk.pos_tag(words)"
   ]
  },
  {
   "cell_type": "code",
   "execution_count": 10,
   "metadata": {},
   "outputs": [],
   "source": [
    "# nltk.download('maxent_ne_chunker_tab')s"
   ]
  },
  {
   "cell_type": "code",
   "execution_count": 11,
   "metadata": {},
   "outputs": [],
   "source": [
    "# nltk.download('words')"
   ]
  },
  {
   "cell_type": "code",
   "execution_count": 13,
   "metadata": {},
   "outputs": [],
   "source": [
    "nltk.ne_chunk(tag_elements).draw()"
   ]
  },
  {
   "cell_type": "markdown",
   "metadata": {},
   "source": []
  }
 ],
 "metadata": {
  "kernelspec": {
   "display_name": "base",
   "language": "python",
   "name": "python3"
  },
  "language_info": {
   "codemirror_mode": {
    "name": "ipython",
    "version": 3
   },
   "file_extension": ".py",
   "mimetype": "text/x-python",
   "name": "python",
   "nbconvert_exporter": "python",
   "pygments_lexer": "ipython3",
   "version": "3.12.7"
  }
 },
 "nbformat": 4,
 "nbformat_minor": 2
}
