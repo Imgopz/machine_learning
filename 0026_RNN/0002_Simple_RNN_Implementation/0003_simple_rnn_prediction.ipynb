{
 "cells": [
  {
   "cell_type": "markdown",
   "metadata": {},
   "source": [
    "#### Prediction"
   ]
  },
  {
   "cell_type": "code",
   "execution_count": 1,
   "metadata": {},
   "outputs": [],
   "source": [
    "# Step 1: Import Libraries and Load the Model\n",
    "import numpy as np\n",
    "import tensorflow as tf\n",
    "from tensorflow.keras.datasets import imdb\n",
    "from tensorflow.keras.preprocessing import sequence\n",
    "from tensorflow.keras.models import load_model"
   ]
  },
  {
   "cell_type": "code",
   "execution_count": 2,
   "metadata": {},
   "outputs": [],
   "source": [
    "\n",
    "# Load the IMDB dataset word index\n",
    "word_index = imdb.get_word_index()\n",
    "reverse_word_index = {value: key for key, value in word_index.items()}"
   ]
  },
  {
   "cell_type": "code",
   "execution_count": 3,
   "metadata": {},
   "outputs": [
    {
     "name": "stderr",
     "output_type": "stream",
     "text": [
      "WARNING:absl:Compiled the loaded model, but the compiled metrics have yet to be built. `model.compile_metrics` will be empty until you train or evaluate the model.\n"
     ]
    },
    {
     "data": {
      "text/html": [
       "<pre style=\"white-space:pre;overflow-x:auto;line-height:normal;font-family:Menlo,'DejaVu Sans Mono',consolas,'Courier New',monospace\"><span style=\"font-weight: bold\">Model: \"sequential\"</span>\n",
       "</pre>\n"
      ],
      "text/plain": [
       "\u001b[1mModel: \"sequential\"\u001b[0m\n"
      ]
     },
     "metadata": {},
     "output_type": "display_data"
    },
    {
     "data": {
      "text/html": [
       "<pre style=\"white-space:pre;overflow-x:auto;line-height:normal;font-family:Menlo,'DejaVu Sans Mono',consolas,'Courier New',monospace\">┏━━━━━━━━━━━━━━━━━━━━━━━━━━━━━━━━━┳━━━━━━━━━━━━━━━━━━━━━━━━┳━━━━━━━━━━━━━━━┓\n",
       "┃<span style=\"font-weight: bold\"> Layer (type)                    </span>┃<span style=\"font-weight: bold\"> Output Shape           </span>┃<span style=\"font-weight: bold\">       Param # </span>┃\n",
       "┡━━━━━━━━━━━━━━━━━━━━━━━━━━━━━━━━━╇━━━━━━━━━━━━━━━━━━━━━━━━╇━━━━━━━━━━━━━━━┩\n",
       "│ embedding (<span style=\"color: #0087ff; text-decoration-color: #0087ff\">Embedding</span>)           │ (<span style=\"color: #00d7ff; text-decoration-color: #00d7ff\">None</span>, <span style=\"color: #00af00; text-decoration-color: #00af00\">500</span>, <span style=\"color: #00af00; text-decoration-color: #00af00\">128</span>)       │     <span style=\"color: #00af00; text-decoration-color: #00af00\">1,280,000</span> │\n",
       "├─────────────────────────────────┼────────────────────────┼───────────────┤\n",
       "│ simple_rnn (<span style=\"color: #0087ff; text-decoration-color: #0087ff\">SimpleRNN</span>)          │ (<span style=\"color: #00d7ff; text-decoration-color: #00d7ff\">None</span>, <span style=\"color: #00af00; text-decoration-color: #00af00\">128</span>)            │        <span style=\"color: #00af00; text-decoration-color: #00af00\">32,896</span> │\n",
       "├─────────────────────────────────┼────────────────────────┼───────────────┤\n",
       "│ dense (<span style=\"color: #0087ff; text-decoration-color: #0087ff\">Dense</span>)                   │ (<span style=\"color: #00d7ff; text-decoration-color: #00d7ff\">None</span>, <span style=\"color: #00af00; text-decoration-color: #00af00\">1</span>)              │           <span style=\"color: #00af00; text-decoration-color: #00af00\">129</span> │\n",
       "└─────────────────────────────────┴────────────────────────┴───────────────┘\n",
       "</pre>\n"
      ],
      "text/plain": [
       "┏━━━━━━━━━━━━━━━━━━━━━━━━━━━━━━━━━┳━━━━━━━━━━━━━━━━━━━━━━━━┳━━━━━━━━━━━━━━━┓\n",
       "┃\u001b[1m \u001b[0m\u001b[1mLayer (type)                   \u001b[0m\u001b[1m \u001b[0m┃\u001b[1m \u001b[0m\u001b[1mOutput Shape          \u001b[0m\u001b[1m \u001b[0m┃\u001b[1m \u001b[0m\u001b[1m      Param #\u001b[0m\u001b[1m \u001b[0m┃\n",
       "┡━━━━━━━━━━━━━━━━━━━━━━━━━━━━━━━━━╇━━━━━━━━━━━━━━━━━━━━━━━━╇━━━━━━━━━━━━━━━┩\n",
       "│ embedding (\u001b[38;5;33mEmbedding\u001b[0m)           │ (\u001b[38;5;45mNone\u001b[0m, \u001b[38;5;34m500\u001b[0m, \u001b[38;5;34m128\u001b[0m)       │     \u001b[38;5;34m1,280,000\u001b[0m │\n",
       "├─────────────────────────────────┼────────────────────────┼───────────────┤\n",
       "│ simple_rnn (\u001b[38;5;33mSimpleRNN\u001b[0m)          │ (\u001b[38;5;45mNone\u001b[0m, \u001b[38;5;34m128\u001b[0m)            │        \u001b[38;5;34m32,896\u001b[0m │\n",
       "├─────────────────────────────────┼────────────────────────┼───────────────┤\n",
       "│ dense (\u001b[38;5;33mDense\u001b[0m)                   │ (\u001b[38;5;45mNone\u001b[0m, \u001b[38;5;34m1\u001b[0m)              │           \u001b[38;5;34m129\u001b[0m │\n",
       "└─────────────────────────────────┴────────────────────────┴───────────────┘\n"
      ]
     },
     "metadata": {},
     "output_type": "display_data"
    },
    {
     "data": {
      "text/html": [
       "<pre style=\"white-space:pre;overflow-x:auto;line-height:normal;font-family:Menlo,'DejaVu Sans Mono',consolas,'Courier New',monospace\"><span style=\"font-weight: bold\"> Total params: </span><span style=\"color: #00af00; text-decoration-color: #00af00\">1,313,027</span> (5.01 MB)\n",
       "</pre>\n"
      ],
      "text/plain": [
       "\u001b[1m Total params: \u001b[0m\u001b[38;5;34m1,313,027\u001b[0m (5.01 MB)\n"
      ]
     },
     "metadata": {},
     "output_type": "display_data"
    },
    {
     "data": {
      "text/html": [
       "<pre style=\"white-space:pre;overflow-x:auto;line-height:normal;font-family:Menlo,'DejaVu Sans Mono',consolas,'Courier New',monospace\"><span style=\"font-weight: bold\"> Trainable params: </span><span style=\"color: #00af00; text-decoration-color: #00af00\">1,313,025</span> (5.01 MB)\n",
       "</pre>\n"
      ],
      "text/plain": [
       "\u001b[1m Trainable params: \u001b[0m\u001b[38;5;34m1,313,025\u001b[0m (5.01 MB)\n"
      ]
     },
     "metadata": {},
     "output_type": "display_data"
    },
    {
     "data": {
      "text/html": [
       "<pre style=\"white-space:pre;overflow-x:auto;line-height:normal;font-family:Menlo,'DejaVu Sans Mono',consolas,'Courier New',monospace\"><span style=\"font-weight: bold\"> Non-trainable params: </span><span style=\"color: #00af00; text-decoration-color: #00af00\">0</span> (0.00 B)\n",
       "</pre>\n"
      ],
      "text/plain": [
       "\u001b[1m Non-trainable params: \u001b[0m\u001b[38;5;34m0\u001b[0m (0.00 B)\n"
      ]
     },
     "metadata": {},
     "output_type": "display_data"
    },
    {
     "data": {
      "text/html": [
       "<pre style=\"white-space:pre;overflow-x:auto;line-height:normal;font-family:Menlo,'DejaVu Sans Mono',consolas,'Courier New',monospace\"><span style=\"font-weight: bold\"> Optimizer params: </span><span style=\"color: #00af00; text-decoration-color: #00af00\">2</span> (12.00 B)\n",
       "</pre>\n"
      ],
      "text/plain": [
       "\u001b[1m Optimizer params: \u001b[0m\u001b[38;5;34m2\u001b[0m (12.00 B)\n"
      ]
     },
     "metadata": {},
     "output_type": "display_data"
    }
   ],
   "source": [
    "# Load the pre-trained model with ReLU activation\n",
    "model = load_model('simple_rnn_imdb.h5')\n",
    "model.summary()"
   ]
  },
  {
   "cell_type": "code",
   "execution_count": 4,
   "metadata": {},
   "outputs": [
    {
     "data": {
      "text/plain": [
       "[array([[ 0.13799901,  0.12567982, -0.30175483, ..., -0.03530207,\n",
       "          0.03054293,  0.07765588],\n",
       "        [ 0.08005495,  0.01615935, -0.08024139, ...,  0.05436811,\n",
       "         -0.00915234,  0.04194925],\n",
       "        [ 0.03641439,  0.02063529, -0.21540226, ...,  0.11730767,\n",
       "         -0.1063185 ,  0.08196734],\n",
       "        ...,\n",
       "        [-0.0234076 , -0.02903598, -0.07579015, ..., -0.01630215,\n",
       "          0.01999152, -0.06347082],\n",
       "        [ 0.11719139, -0.05332647, -0.0094554 , ..., -0.06897897,\n",
       "          0.12188475,  0.07539976],\n",
       "        [-0.09095   , -0.05791105,  0.09748859, ...,  0.14060588,\n",
       "         -0.07196552,  0.05458563]], dtype=float32),\n",
       " array([[-0.10278925, -0.15652514, -0.10595655, ...,  0.09995411,\n",
       "          0.13668048,  0.01581597],\n",
       "        [ 0.01578537, -0.10224964, -0.03229767, ...,  0.00925078,\n",
       "         -0.14183989,  0.01224993],\n",
       "        [ 0.00110226, -0.01872715, -0.05172179, ...,  0.16544576,\n",
       "          0.02675307, -0.0473788 ],\n",
       "        ...,\n",
       "        [ 0.00368479,  0.0063496 , -0.04895822, ..., -0.08596447,\n",
       "         -0.10863612, -0.06166079],\n",
       "        [-0.00198748, -0.16512169,  0.09361583, ...,  0.00736781,\n",
       "          0.14048044,  0.12419923],\n",
       "        [-0.05925877, -0.132907  , -0.02665581, ...,  0.01386996,\n",
       "         -0.07879095,  0.09299433]], dtype=float32),\n",
       " array([[ 8.03067461e-02,  1.09253608e-01,  4.67512794e-02, ...,\n",
       "         -6.26568794e-02, -3.15064960e-03, -9.12669152e-02],\n",
       "        [ 2.71867635e-03, -6.03213049e-02, -2.13442259e-02, ...,\n",
       "         -1.53282627e-01,  1.24173716e-01,  5.81248999e-02],\n",
       "        [-1.14513084e-01,  5.27465157e-02, -5.19411266e-03, ...,\n",
       "          1.85216471e-04, -4.20508794e-02,  1.18403263e-01],\n",
       "        ...,\n",
       "        [-8.50033090e-02, -1.00171320e-01,  1.08362893e-02, ...,\n",
       "         -6.26248270e-02,  1.05110578e-01, -1.00088082e-01],\n",
       "        [-8.75318199e-02,  1.05996087e-01,  5.69150895e-02, ...,\n",
       "         -1.61735639e-02,  1.52505666e-01, -6.46124128e-03],\n",
       "        [ 1.32247284e-01,  1.10445641e-01, -2.21421160e-02, ...,\n",
       "          2.60566771e-01,  8.99568275e-02,  1.23851158e-01]], dtype=float32),\n",
       " array([ 0.0086477 ,  0.05187429,  0.06350247, -0.01142766, -0.06609479,\n",
       "         0.04324912, -0.03609061, -0.04925164,  0.01996461, -0.03058454,\n",
       "        -0.01932424,  0.00966887, -0.03832057, -0.04616996,  0.01301222,\n",
       "        -0.06888049, -0.03847064,  0.02960398, -0.01484779, -0.0540223 ,\n",
       "        -0.01763151, -0.04142905, -0.02741052, -0.03201405, -0.0460059 ,\n",
       "        -0.00621988,  0.00157873,  0.0103605 ,  0.04975777,  0.03728941,\n",
       "        -0.00111725, -0.0049523 , -0.02117353, -0.03877626, -0.04896805,\n",
       "        -0.03636453, -0.00787509,  0.0221365 , -0.02926006, -0.00536152,\n",
       "        -0.02309998, -0.00463505, -0.00088975, -0.02057753, -0.02980107,\n",
       "        -0.02024044,  0.06097976,  0.04825862, -0.03369623, -0.03392221,\n",
       "        -0.02920841,  0.01940512, -0.02286273, -0.0619744 , -0.03487946,\n",
       "         0.00639077, -0.04292152,  0.04132159,  0.02249763, -0.04509896,\n",
       "         0.04946117, -0.05651358, -0.05466553,  0.00451543, -0.01415818,\n",
       "         0.02202852, -0.04699471, -0.04347202,  0.05032137,  0.00283736,\n",
       "        -0.0359152 , -0.02801496, -0.00097319, -0.03419275, -0.0094294 ,\n",
       "         0.09343109,  0.03928903, -0.06496448,  0.05992126, -0.0278936 ,\n",
       "        -0.05043091,  0.02742117,  0.02412944,  0.00266314, -0.02631145,\n",
       "         0.04602137, -0.06423305, -0.03098423, -0.05775388, -0.01231757,\n",
       "        -0.06050185,  0.03598239, -0.06140239, -0.02382753, -0.03196678,\n",
       "         0.05964855, -0.02267735, -0.01406001,  0.01472121, -0.00108922,\n",
       "        -0.0416951 ,  0.05250748, -0.05221993, -0.07047493, -0.07087756,\n",
       "        -0.05128089, -0.05750853, -0.02434777, -0.05674699,  0.05493119,\n",
       "         0.01668773,  0.03584545, -0.05900659, -0.03224202, -0.04741631,\n",
       "        -0.03212226,  0.04794068,  0.01212527,  0.02177888,  0.04460404,\n",
       "         0.04223556, -0.04360034,  0.04719243,  0.01161562, -0.03387396,\n",
       "        -0.05626443, -0.01766524, -0.02142863], dtype=float32),\n",
       " array([[ 4.21108156e-02],\n",
       "        [ 2.06529379e-01],\n",
       "        [ 1.02493837e-01],\n",
       "        [-9.85688046e-02],\n",
       "        [-1.04118101e-01],\n",
       "        [-1.65191069e-01],\n",
       "        [ 2.00844213e-01],\n",
       "        [-3.28785986e-01],\n",
       "        [-2.61284649e-01],\n",
       "        [-2.78530508e-01],\n",
       "        [ 7.61050209e-02],\n",
       "        [ 1.40509069e-01],\n",
       "        [ 5.68737946e-02],\n",
       "        [ 1.79723337e-01],\n",
       "        [-6.85512945e-02],\n",
       "        [-2.44767398e-01],\n",
       "        [-6.60885647e-02],\n",
       "        [ 1.08573586e-01],\n",
       "        [-8.67446139e-02],\n",
       "        [-2.35928461e-01],\n",
       "        [-1.90946013e-01],\n",
       "        [ 4.40783519e-03],\n",
       "        [-7.10244715e-01],\n",
       "        [-1.29800603e-01],\n",
       "        [-8.64145160e-02],\n",
       "        [-8.97660106e-02],\n",
       "        [ 5.18052690e-02],\n",
       "        [-1.98987648e-01],\n",
       "        [ 3.38148206e-01],\n",
       "        [ 1.25762612e-01],\n",
       "        [-2.13473454e-01],\n",
       "        [-1.66514486e-01],\n",
       "        [ 1.46675184e-01],\n",
       "        [-3.92833687e-02],\n",
       "        [ 2.01837167e-01],\n",
       "        [ 1.48462951e-01],\n",
       "        [-1.59098864e-01],\n",
       "        [ 5.86849041e-02],\n",
       "        [-1.57633722e-01],\n",
       "        [ 1.86151057e-01],\n",
       "        [-5.47170699e-01],\n",
       "        [ 3.07923108e-02],\n",
       "        [-1.19909108e-01],\n",
       "        [-3.98601919e-01],\n",
       "        [-1.91775024e-01],\n",
       "        [-1.16517477e-01],\n",
       "        [ 1.70370892e-01],\n",
       "        [ 1.48998871e-01],\n",
       "        [-3.59454453e-02],\n",
       "        [ 1.17006198e-01],\n",
       "        [-1.05570545e-02],\n",
       "        [ 5.74720441e-04],\n",
       "        [-1.84222639e-01],\n",
       "        [ 2.38034770e-01],\n",
       "        [ 9.45975352e-03],\n",
       "        [-2.80476492e-02],\n",
       "        [-9.81498659e-02],\n",
       "        [-2.35370956e-02],\n",
       "        [-9.93523002e-02],\n",
       "        [-9.55700278e-02],\n",
       "        [-1.52023941e-01],\n",
       "        [-1.18313529e-01],\n",
       "        [-1.29986316e-01],\n",
       "        [ 3.20539251e-02],\n",
       "        [ 1.28315866e-01],\n",
       "        [ 1.37796039e-02],\n",
       "        [ 1.17692344e-01],\n",
       "        [-1.63046792e-01],\n",
       "        [ 7.12873861e-02],\n",
       "        [ 2.21554060e-02],\n",
       "        [ 2.57108897e-01],\n",
       "        [ 5.20808324e-02],\n",
       "        [ 3.83627087e-01],\n",
       "        [-8.81247688e-03],\n",
       "        [-3.31148237e-01],\n",
       "        [-8.93575922e-02],\n",
       "        [-1.15809247e-01],\n",
       "        [ 1.83537781e-01],\n",
       "        [ 1.23609036e-01],\n",
       "        [-3.66015807e-02],\n",
       "        [-5.58407493e-02],\n",
       "        [-7.85678700e-02],\n",
       "        [-3.11261471e-02],\n",
       "        [ 1.97353885e-01],\n",
       "        [-1.55279681e-01],\n",
       "        [-1.45310238e-01],\n",
       "        [-9.33768526e-02],\n",
       "        [-7.56606981e-02],\n",
       "        [ 1.12409657e-02],\n",
       "        [-9.40005183e-02],\n",
       "        [ 1.14524350e-01],\n",
       "        [ 8.17386284e-02],\n",
       "        [ 1.13205679e-01],\n",
       "        [ 1.49527133e-01],\n",
       "        [-1.78506479e-01],\n",
       "        [ 1.90918073e-01],\n",
       "        [ 1.63009837e-01],\n",
       "        [-4.41486090e-01],\n",
       "        [-1.44701540e-01],\n",
       "        [-1.55374515e+00],\n",
       "        [-8.05406496e-02],\n",
       "        [ 1.46814853e-01],\n",
       "        [-4.30124514e-02],\n",
       "        [ 3.60258967e-01],\n",
       "        [ 6.13668282e-03],\n",
       "        [-1.64561987e-01],\n",
       "        [-2.01950163e-01],\n",
       "        [-7.20966086e-02],\n",
       "        [ 9.74920020e-03],\n",
       "        [-2.33414993e-01],\n",
       "        [-3.49582583e-01],\n",
       "        [ 1.02910273e-01],\n",
       "        [-6.22761771e-02],\n",
       "        [-2.32531831e-01],\n",
       "        [-1.54163927e-01],\n",
       "        [ 1.99608598e-02],\n",
       "        [ 9.96671617e-02],\n",
       "        [-7.73061514e-02],\n",
       "        [ 1.65022016e-01],\n",
       "        [ 2.15473354e-01],\n",
       "        [-9.24796984e-02],\n",
       "        [-8.67760926e-02],\n",
       "        [ 8.10702071e-02],\n",
       "        [ 2.72935685e-02],\n",
       "        [-5.98057322e-02],\n",
       "        [-1.14222467e-01],\n",
       "        [-1.23665385e-01],\n",
       "        [-3.50094587e-01]], dtype=float32),\n",
       " array([-1.6043831], dtype=float32)]"
      ]
     },
     "execution_count": 4,
     "metadata": {},
     "output_type": "execute_result"
    }
   ],
   "source": [
    "model.get_weights()"
   ]
  },
  {
   "cell_type": "code",
   "execution_count": 5,
   "metadata": {},
   "outputs": [],
   "source": [
    "# Step 2: Helper Functions\n",
    "# Function to decode reviews\n",
    "def decode_review(encoded_review):\n",
    "    return ' '.join([reverse_word_index.get(i - 3, '?') for i in encoded_review])\n",
    "\n",
    "# Function to preprocess user input\n",
    "def preprocess_text(text):\n",
    "    words = text.lower().split()\n",
    "    encoded_review = [word_index.get(word, 2) + 3 for word in words]\n",
    "    padded_review = sequence.pad_sequences([encoded_review], maxlen=500)\n",
    "    return padded_review"
   ]
  },
  {
   "cell_type": "code",
   "execution_count": 6,
   "metadata": {},
   "outputs": [],
   "source": [
    "### Prediction  function\n",
    "\n",
    "def predict_sentiment(review):\n",
    "    \n",
    "    preprocessed_input=preprocess_text(review)\n",
    "\n",
    "    prediction=model.predict(preprocessed_input)\n",
    "\n",
    "    sentiment = 'Positive' if prediction[0][0] > 0.5 else 'Negative'\n",
    "    \n",
    "    return sentiment, prediction[0][0]\n",
    "\n"
   ]
  },
  {
   "cell_type": "code",
   "execution_count": 7,
   "metadata": {},
   "outputs": [
    {
     "name": "stdout",
     "output_type": "stream",
     "text": [
      "\u001b[1m1/1\u001b[0m \u001b[32m━━━━━━━━━━━━━━━━━━━━\u001b[0m\u001b[37m\u001b[0m \u001b[1m0s\u001b[0m 125ms/step\n",
      "Review: This movie was fantastic! The acting was great and the plot was thrilling.\n",
      "Sentiment: Negative\n",
      "Prediction Score: 0.40579572319984436\n"
     ]
    }
   ],
   "source": [
    "# Step 4: User Input and Prediction\n",
    "# Example review for prediction\n",
    "example_review = \"This movie was fantastic! The acting was great and the plot was thrilling.\"\n",
    "\n",
    "sentiment,score=predict_sentiment(example_review)\n",
    "\n",
    "print(f'Review: {example_review}')\n",
    "print(f'Sentiment: {sentiment}')\n",
    "print(f'Prediction Score: {score}')"
   ]
  },
  {
   "cell_type": "markdown",
   "metadata": {},
   "source": [
    "What ????"
   ]
  }
 ],
 "metadata": {
  "kernelspec": {
   "display_name": "venv",
   "language": "python",
   "name": "python3"
  },
  "language_info": {
   "codemirror_mode": {
    "name": "ipython",
    "version": 3
   },
   "file_extension": ".py",
   "mimetype": "text/x-python",
   "name": "python",
   "nbconvert_exporter": "python",
   "pygments_lexer": "ipython3",
   "version": "3.11.0"
  }
 },
 "nbformat": 4,
 "nbformat_minor": 2
}
