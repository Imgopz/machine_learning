{
 "cells": [
  {
   "cell_type": "markdown",
   "metadata": {},
   "source": [
    "### Hugging Face x LangChain : A new partner package in LangChain\n",
    "langchain_huggingface, a partner package in LangChain jointly maintained by Hugging Face and LangChain. This new Python package is designed to bring the power of the latest development of Hugging Face into LangChain and keep it up to date."
   ]
  },
  {
   "cell_type": "code",
   "execution_count": 1,
   "metadata": {},
   "outputs": [
    {
     "data": {
      "text/plain": [
       "True"
      ]
     },
     "execution_count": 1,
     "metadata": {},
     "output_type": "execute_result"
    }
   ],
   "source": [
    "import os\n",
    "from dotenv import load_dotenv\n",
    "load_dotenv()"
   ]
  },
  {
   "cell_type": "markdown",
   "metadata": {},
   "source": [
    "### HuggingFaceEndpoint\n",
    "#### How to Access HuggingFace Models with API\n",
    "There are also two ways to use this class. You can specify the model with the repo_id parameter. Those endpoints use the serverless API, which is particularly beneficial to people using pro accounts or enterprise hub. Still, regular users can already have access to a fair amount of request by connecting with their HF token in the environment where they are executing the code."
   ]
  },
  {
   "cell_type": "code",
   "execution_count": 2,
   "metadata": {},
   "outputs": [],
   "source": [
    "from langchain_huggingface import HuggingFaceEndpoint\n"
   ]
  },
  {
   "cell_type": "code",
   "execution_count": null,
   "metadata": {},
   "outputs": [],
   "source": [
    "repo_id=\"mistralai/Mistral-7B-Instruct-v0.3\"\n",
    "llm=HuggingFaceEndpoint(repo_id=repo_id,max_length=150,temperature=0.7,token=os.getenv(\"HF_TOKEN\"))\n",
    "llm"
   ]
  },
  {
   "cell_type": "code",
   "execution_count": 4,
   "metadata": {},
   "outputs": [
    {
     "data": {
      "text/plain": [
       "'?\\n\\nMachine learning is a subset of artificial intelligence that provides systems the ability to automatically learn and improve from experience without being explicitly programmed. Machine learning focuses on the development of computer programs that can access data and use it to learn for themselves.\\n\\nThe process of learning begins with observations or data, such as examples, direct experience, or instruction, in order to look for patterns in data and make better decisions in the future based on the examples that we provide. The primary aim is to allow the computers to learn automatically without human intervention or assistance and adjust actions accordingly.\\n\\nMachine learning is a science that is a branch of computer science, and it is a way for a computer to learn and make decisions on its own, without human intervention.\\n\\nWhat are the different types of machine learning?\\n\\nMachine learning is a vast field and is divided into three types based on the type of data used for learning, the data available, and the way the model is trained. The three types are:\\n\\n1. Supervised learning: In supervised learning, the model is trained on labeled data. The labeled data consists of a set of input-output pairs where the input is the independent variable and the output is the dependent variable. The goal of the model is to learn the mapping function that can be used to predict the output for new unseen inputs.\\n\\n2. Unsupervised learning: In unsupervised learning, the model is trained on unlabeled data. The model tries to find patterns, relationships, or structure within the data without being explicitly told what to do. The goal is to find hidden relationships in the data that can be used to make predictions or decisions.\\n\\n3. Semi-supervised learning: In semi-supervised learning, the model is trained on a combination of labeled and unlabeled data. The labeled data is used to guide the learning process, while the unlabeled data is used to improve the accuracy of the model by learning the underlying structure of the data.\\n\\nWhat are the applications of machine learning?\\n\\nMachine learning has a wide range of applications in various fields, such as:\\n\\n1. Image recognition and classification: Machine learning is used to identify and classify objects in images. This is used in applications such as facial recognition, object detection, and autonomous vehicles.\\n\\n2. Natural language processing: Machine learning is used to understand and interpret human language in text and speech. This is used in applications such as voice assistants'"
      ]
     },
     "execution_count": 4,
     "metadata": {},
     "output_type": "execute_result"
    }
   ],
   "source": [
    "llm.invoke(\"What is machine learning\")"
   ]
  },
  {
   "cell_type": "code",
   "execution_count": 5,
   "metadata": {},
   "outputs": [
    {
     "data": {
      "text/plain": [
       "'🧠💡\\n\\nGenerative AI is a type of artificial intelligence (AI) that can create new content, such as images, text, music, and even video, based on the patterns it has learned from the data it was trained on. It\\'s called \"generative\" because it generates new content rather than simply replicating or classifying existing content like other types of AI.\\n\\nGenerative AI works by using a process called \"generative modeling,\" which involves training a model to understand the underlying structure of a dataset. The model is then able to generate new content that is similar to the content in the dataset but is not a direct copy.\\n\\nOne example of generative AI is a text-to-image model, which can generate images based on a text prompt. For example, if you input the text \"a happy cat sitting on a rainbow,\" the model might generate an image of a cat sitting on a rainbow. Another example is a music-generating AI that can create new songs based on the patterns it has learned from existing music.\\n\\nGenerative AI has many potential applications, such as creating personalized content, generating new ideas, and even helping to design new products. However, it also raises important ethical and practical questions, such as issues of copyright and the potential for AI to generate fake or misleading content.'"
      ]
     },
     "execution_count": 5,
     "metadata": {},
     "output_type": "execute_result"
    }
   ],
   "source": [
    "llm.invoke(\"What is generative AI \")"
   ]
  },
  {
   "cell_type": "code",
   "execution_count": null,
   "metadata": {},
   "outputs": [],
   "source": [
    "repo_id=\"google/gemma-2-9b-it\"\n",
    "llm=HuggingFaceEndpoint(repo_id=repo_id,max_length=150,temperature=0.7,token=os.getenv(\"HF_TOKEN\"))\n",
    "llm"
   ]
  },
  {
   "cell_type": "code",
   "execution_count": 9,
   "metadata": {},
   "outputs": [
    {
     "data": {
      "text/plain": [
       "'?\\n\\nMachine learning is a type of artificial intelligence (AI) that allows software applications to become more accurate at predicting outcomes without being explicitly programmed to do so. \\n\\nInstead of relying on specific instructions, machine learning algorithms use patterns and insights from data to learn and improve their performance over time. \\n\\nHere\\'s a simple analogy: Imagine teaching a child to identify cats.\\n\\nYou wouldn\\'t write a program with every possible feature of a cat (fur, whiskers, tail, etc.). Instead, you\\'d show them many pictures of cats and tell them \"this is a cat.\"\\n\\nOver time, the child learns to recognize the common patterns and features that define a cat, even if they encounter a cat they haven\\'t seen before.\\n\\nMachine learning works in a similar way. \\n\\n**Key Concepts:**\\n\\n* **Data:** Machine learning algorithms require large amounts of data to learn from.\\n\\n* **Algorithms:** These are the mathematical models that process the data and identify patterns.\\n\\n* **Training:** The process of feeding data to the algorithm and adjusting its parameters to improve its performance.\\n\\n* **Prediction:** Once trained, the algorithm can make predictions on new, unseen data.\\n\\n**Types of Machine Learning:**\\n\\n* **Supervised Learning:** The algorithm is trained on labeled data, where each data point has a known outcome.\\n\\n* **Unsupervised Learning:** The algorithm is trained on unlabeled data and must discover patterns and structures on its own.\\n\\n* **Reinforcement Learning:** The algorithm learns by interacting with an environment and receiving rewards or penalties for its actions.\\n\\n**Applications:**\\n\\nMachine learning is used in a wide range of applications, including:\\n\\n* **Image recognition**\\n* **Natural language processing**\\n* **Spam filtering**\\n* **Recommendation systems**\\n* **Fraud detection**\\n* **Medical diagnosis**\\n\\n**Conclusion:**\\n\\nMachine learning is a powerful technology that is transforming many industries. \\n\\nBy enabling machines to learn from data, we can create smarter, more efficient, and more personalized experiences.\\n'"
      ]
     },
     "execution_count": 9,
     "metadata": {},
     "output_type": "execute_result"
    }
   ],
   "source": [
    "llm.invoke(\"What is machine learning\")"
   ]
  },
  {
   "cell_type": "code",
   "execution_count": null,
   "metadata": {},
   "outputs": [],
   "source": [
    "repo_id=\"mistralai/Mistral-7B-Instruct-v0.3\"\n",
    "llm=HuggingFaceEndpoint(repo_id=repo_id,max_length=150,temperature=0.7,token=os.getenv(\"HF_TOKEN\"))\n",
    "llm"
   ]
  },
  {
   "cell_type": "code",
   "execution_count": 11,
   "metadata": {},
   "outputs": [
    {
     "name": "stdout",
     "output_type": "stream",
     "text": [
      "input_variables=['question'] input_types={} partial_variables={} template='\\nQuestion:{question}\\nAnswer:Lets think step by step.\\n'\n"
     ]
    }
   ],
   "source": [
    "from langchain import PromptTemplate,LLMChain\n",
    "template=\"\"\"\n",
    "Question:{question}\n",
    "Answer:Lets think step by step.\n",
    "\"\"\"\n",
    "prompt=PromptTemplate(template=template,input_variables=[\"question\"])\n",
    "print(prompt)"
   ]
  },
  {
   "cell_type": "code",
   "execution_count": 12,
   "metadata": {},
   "outputs": [
    {
     "data": {
      "text/plain": [
       "\"?\\n\\nIndia won the Cricket World Cup 2011, defeating Sri Lanka by six wickets in the final at Wankhede Stadium, Mumbai, on April 2, 2011. MS Dhoni, India's captain, won the man of the match award for his unbeaten 91 and man of the series award for his consistent performance throughout the tournament.\\n\\nWho won the cricket World Cup 2015?\\n\\nAustralia won the Cricket World Cup 2015, defeating New Zealand by seven wickets in the final at the Melbourne Cricket Ground (MCG) on March 29, 2015. James Faulkner, Australia's all-rounder, won the man of the match award for his unbeaten 69 and five wickets in the match.\\n\\nWho won the cricket World Cup 2007?\\n\\nAustralia won the Cricket World Cup 2007, defeating Sri Lanka by 53 runs in the final at the Kensington Oval, Bridgetown, Barbados, on April 28, 2007. Adam Gilchrist, Australia's wicketkeeper-batsman, won the man of the match award for his unbeaten 149 and the man of the series award for his consistent performance throughout the tournament.\\n\\nWho won the cricket World Cup 2019?\\n\\nEngland won the Cricket World Cup 2019, defeating New Zealand by a boundary count in the final at Lord's, London, on July 14, 2019. Ben Stokes, England's all-rounder, won the man of the match award for his unbeaten 84 and his outstanding performance in the super over, and Jofra Archer, England's fast bowler, was named the man of the series for his consistent performance throughout the tournament.\\n\\nWho won the cricket World Cup 2003?\\n\\nAustralia won the Cricket World Cup 2003, defeating India by 125 runs in the final at the Wanderers Stadium, Johannesburg, South Africa, on March 23, 2003. Adam Gilchrist, Australia's wicketkeeper-b\""
      ]
     },
     "execution_count": 12,
     "metadata": {},
     "output_type": "execute_result"
    }
   ],
   "source": [
    "llm_chain=LLMChain(llm=llm,prompt=prompt)\n",
    "llm.invoke(\"Who won the cricket World up 2011\")"
   ]
  },
  {
   "cell_type": "code",
   "execution_count": 14,
   "metadata": {},
   "outputs": [],
   "source": [
    "from langchain_community.embeddings import HuggingFaceBgeEmbeddings\n",
    "\n",
    "model_name = \"BAAI/bge-small-en\"\n",
    "model_kwargs = {\"device\": \"cpu\"}\n",
    "encode_kwargs = {\"normalize_embeddings\": True}\n",
    "hf = HuggingFaceBgeEmbeddings(\n",
    "    model_name=model_name, model_kwargs=model_kwargs, encode_kwargs=encode_kwargs\n",
    ")\n"
   ]
  },
  {
   "cell_type": "code",
   "execution_count": 15,
   "metadata": {},
   "outputs": [],
   "source": [
    "embedding = hf.embed_query(\"hi this is harrison\")"
   ]
  },
  {
   "cell_type": "code",
   "execution_count": 16,
   "metadata": {},
   "outputs": [
    {
     "data": {
      "text/plain": [
       "[-0.028416553512215614,\n",
       " 0.012183267623186111,\n",
       " 0.027443964034318924,\n",
       " -0.0548286996781826,\n",
       " 0.024238882586359978,\n",
       " 0.0007663082797080278,\n",
       " 0.06783365458250046,\n",
       " 0.016348334029316902,\n",
       " -0.018950747326016426,\n",
       " 0.012542929500341415,\n",
       " 0.021565008908510208,\n",
       " -0.08793038129806519,\n",
       " 0.0006460736622102559,\n",
       " 0.03327082097530365,\n",
       " 0.005463734734803438,\n",
       " -0.06037648394703865,\n",
       " 0.05042264237999916,\n",
       " 0.00443480396643281,\n",
       " 0.0009599017212167382,\n",
       " 0.0017405530670657754,\n",
       " 0.003298826515674591,\n",
       " 0.03167249634861946,\n",
       " -0.048807498067617416,\n",
       " -0.044819146394729614,\n",
       " 0.07132109999656677,\n",
       " -0.0075108762830495834,\n",
       " -0.001125949784182012,\n",
       " -0.015801170840859413,\n",
       " -0.029402390122413635,\n",
       " -0.17224569618701935,\n",
       " -0.03189518302679062,\n",
       " -0.0016291674692183733,\n",
       " 0.018104977905750275,\n",
       " 0.015315400436520576,\n",
       " -0.020729567855596542,\n",
       " -0.00887299794703722,\n",
       " -0.0012822393327951431,\n",
       " 0.027276910841464996,\n",
       " -0.010114247910678387,\n",
       " 0.012621653266251087,\n",
       " -0.007077870890498161,\n",
       " -0.01669315993785858,\n",
       " 0.04085583984851837,\n",
       " 0.023938341066241264,\n",
       " -0.020081525668501854,\n",
       " 0.028681153431534767,\n",
       " -0.019400758668780327,\n",
       " -0.014618216082453728,\n",
       " 0.017379634082317352,\n",
       " 0.004164092242717743,\n",
       " 0.06415648013353348,\n",
       " 0.04768308624625206,\n",
       " 0.0018365149153396487,\n",
       " -8.069891191553324e-05,\n",
       " 0.016596801578998566,\n",
       " 0.011124172247946262,\n",
       " 0.06969437748193741,\n",
       " 0.05182051286101341,\n",
       " 0.055685292929410934,\n",
       " 0.055515438318252563,\n",
       " 0.000503968563862145,\n",
       " 0.04187062382698059,\n",
       " -0.15344089269638062,\n",
       " 0.05180783197283745,\n",
       " 0.006689795292913914,\n",
       " -0.03167073428630829,\n",
       " -0.009105022996664047,\n",
       " -0.05160471796989441,\n",
       " 0.04250858351588249,\n",
       " 0.028200050815939903,\n",
       " -0.010748136788606644,\n",
       " 0.02240579016506672,\n",
       " 0.044395506381988525,\n",
       " 0.004115525167435408,\n",
       " 0.01899850368499756,\n",
       " -0.004357183817774057,\n",
       " 0.047627631574869156,\n",
       " 0.011824628338217735,\n",
       " 0.00816461630165577,\n",
       " 0.008177281357347965,\n",
       " -0.009698772802948952,\n",
       " -0.014260279014706612,\n",
       " 0.0114096999168396,\n",
       " -0.07362118363380432,\n",
       " -0.05439520627260208,\n",
       " -0.05703961104154587,\n",
       " -0.003608557628467679,\n",
       " 0.0026660789735615253,\n",
       " 0.023782461881637573,\n",
       " 0.015376233495771885,\n",
       " -0.07020372897386551,\n",
       " -0.031300339847803116,\n",
       " -0.0031142919324338436,\n",
       " -0.015812164172530174,\n",
       " -0.03791401907801628,\n",
       " -0.025921903550624847,\n",
       " 0.018168414011597633,\n",
       " -0.03882461041212082,\n",
       " -0.056745078414678574,\n",
       " 0.5792059898376465,\n",
       " -0.05278833210468292,\n",
       " 0.020716389641165733,\n",
       " 0.06794387102127075,\n",
       " -0.04541655257344246,\n",
       " 0.011642470955848694,\n",
       " -0.02157178334891796,\n",
       " 0.02034173533320427,\n",
       " -0.027448926120996475,\n",
       " -0.045588959008455276,\n",
       " -0.029443582519888878,\n",
       " -0.02366250567138195,\n",
       " -0.034315258264541626,\n",
       " 0.001938889967277646,\n",
       " -0.07095137983560562,\n",
       " 0.034556321799755096,\n",
       " -0.030558936297893524,\n",
       " 0.03907858580350876,\n",
       " -0.02970731444656849,\n",
       " -0.0008283082279376686,\n",
       " -0.01215936616063118,\n",
       " -0.018272824585437775,\n",
       " 0.025486504659056664,\n",
       " -0.0044616470113396645,\n",
       " 0.01633535325527191,\n",
       " 0.019126499071717262,\n",
       " -0.05483205243945122,\n",
       " 0.027635985985398293,\n",
       " -0.004757674410939217,\n",
       " 0.059001725167036057,\n",
       " -0.0016944637754932046,\n",
       " 0.008014998398721218,\n",
       " -0.03772684186697006,\n",
       " -0.09893044084310532,\n",
       " -0.022574376314878464,\n",
       " -0.037604641169309616,\n",
       " -0.002169858431443572,\n",
       " 0.00324462354183197,\n",
       " -0.01920255273580551,\n",
       " -0.008631214499473572,\n",
       " -0.04802308604121208,\n",
       " 0.008696692064404488,\n",
       " -0.09516111016273499,\n",
       " -0.03496047854423523,\n",
       " -0.04360801354050636,\n",
       " -0.00034402511664666235,\n",
       " -0.010173643939197063,\n",
       " -0.030999548733234406,\n",
       " 0.02430969849228859,\n",
       " -0.020402032881975174,\n",
       " 0.031139390543103218,\n",
       " 0.0008811151492409408,\n",
       " 0.013916471041738987,\n",
       " -0.03119622729718685,\n",
       " -0.037154052406549454,\n",
       " 0.0040296344086527824,\n",
       " 0.014799810945987701,\n",
       " 0.04318896681070328,\n",
       " 0.03875482454895973,\n",
       " 0.013851989060640335,\n",
       " 0.01979786343872547,\n",
       " 0.010267077013850212,\n",
       " -0.005434108432382345,\n",
       " -0.014299245551228523,\n",
       " 0.02763785608112812,\n",
       " 0.009802667424082756,\n",
       " -0.1355028599500656,\n",
       " -0.017139770090579987,\n",
       " 0.017617112025618553,\n",
       " 0.023132260888814926,\n",
       " 0.001759014674462378,\n",
       " 0.03088941052556038,\n",
       " 0.03991871327161789,\n",
       " -0.013684175908565521,\n",
       " 0.024816518649458885,\n",
       " 0.05405018851161003,\n",
       " 0.017761148512363434,\n",
       " -0.01847507618367672,\n",
       " 0.025955377146601677,\n",
       " -0.0063775465823709965,\n",
       " -0.016587326303124428,\n",
       " 0.03784804418683052,\n",
       " -0.027290022000670433,\n",
       " -0.05284580588340759,\n",
       " -0.03803317993879318,\n",
       " 0.05191105604171753,\n",
       " -0.007557093631476164,\n",
       " -0.031805310398340225,\n",
       " 0.01328420639038086,\n",
       " -0.02772371843457222,\n",
       " 0.05630653724074364,\n",
       " 0.003041862277314067,\n",
       " 0.05332483723759651,\n",
       " -0.05791125446557999,\n",
       " -0.011325802654027939,\n",
       " -0.03117201291024685,\n",
       " 0.02560868300497532,\n",
       " 0.03389059752225876,\n",
       " -0.0010284296004101634,\n",
       " 0.015864890068769455,\n",
       " 0.010595209896564484,\n",
       " -0.02703780308365822,\n",
       " -0.0009308418957516551,\n",
       " -0.04815222695469856,\n",
       " 0.0281792264431715,\n",
       " 0.010320610366761684,\n",
       " 0.06662959605455399,\n",
       " -0.016558198258280754,\n",
       " -0.004431403707712889,\n",
       " 0.03823426365852356,\n",
       " -0.023408204317092896,\n",
       " -0.035581767559051514,\n",
       " -0.05829068273305893,\n",
       " -0.011181488633155823,\n",
       " -0.01768455095589161,\n",
       " -0.016141287982463837,\n",
       " -0.0342453271150589,\n",
       " -0.025139527395367622,\n",
       " 0.039396680891513824,\n",
       " -0.02365821786224842,\n",
       " -0.007725023664534092,\n",
       " -0.005098918452858925,\n",
       " -0.035234373062849045,\n",
       " -0.014076837338507175,\n",
       " -0.223260298371315,\n",
       " -0.03147139027714729,\n",
       " -0.0012906095944344997,\n",
       " -0.0017199853900820017,\n",
       " -0.007846038788557053,\n",
       " -0.05802326649427414,\n",
       " 0.046174563467502594,\n",
       " 0.024552641436457634,\n",
       " 0.07320838421583176,\n",
       " 0.017268331721425056,\n",
       " 0.047612059861421585,\n",
       " 0.013473288156092167,\n",
       " -0.005516040604561567,\n",
       " -0.014357835985720158,\n",
       " -0.009674296714365482,\n",
       " 0.04878249019384384,\n",
       " 0.030538106337189674,\n",
       " -0.024993961676955223,\n",
       " 0.021486228331923485,\n",
       " 0.01763981580734253,\n",
       " 0.05313895270228386,\n",
       " 0.013485005125403404,\n",
       " -0.023225966840982437,\n",
       " -0.021403975784778595,\n",
       " 0.026075344532728195,\n",
       " 0.0020292021799832582,\n",
       " 0.12753744423389435,\n",
       " 0.08316831290721893,\n",
       " 0.04408948868513107,\n",
       " -0.02670358307659626,\n",
       " 0.005522021092474461,\n",
       " -0.009294888935983181,\n",
       " 0.020074322819709778,\n",
       " -0.09684176743030548,\n",
       " -0.02470395527780056,\n",
       " 0.025086961686611176,\n",
       " 0.002088603563606739,\n",
       " -0.04489403963088989,\n",
       " -0.07861138135194778,\n",
       " -0.004376337863504887,\n",
       " -0.06590455025434494,\n",
       " 0.014689413830637932,\n",
       " -0.05764186009764671,\n",
       " -0.07152027636766434,\n",
       " -0.06232647970318794,\n",
       " 0.0034316712990403175,\n",
       " -0.046065520495176315,\n",
       " 0.04530090093612671,\n",
       " -0.026762256398797035,\n",
       " 0.03401093930006027,\n",
       " 0.045473817735910416,\n",
       " -0.02817925252020359,\n",
       " 0.005011804401874542,\n",
       " 0.009630844928324223,\n",
       " -0.030305562540888786,\n",
       " -0.03612479940056801,\n",
       " -0.013627000153064728,\n",
       " -0.032653726637363434,\n",
       " -0.04467754811048508,\n",
       " 0.010642170906066895,\n",
       " -0.027486354112625122,\n",
       " -0.02456510439515114,\n",
       " -0.02474776841700077,\n",
       " 0.05361954867839813,\n",
       " 0.020789964124560356,\n",
       " 0.01946849375963211,\n",
       " 0.05324122682213783,\n",
       " -0.014002456329762936,\n",
       " 0.021243249997496605,\n",
       " -0.04957324638962746,\n",
       " -0.008522586897015572,\n",
       " 0.007852885872125626,\n",
       " -0.05719393491744995,\n",
       " -0.027550628408789635,\n",
       " 0.005300895310938358,\n",
       " 0.04007291421294212,\n",
       " 0.019597919657826424,\n",
       " -0.04519734904170036,\n",
       " 0.03243580833077431,\n",
       " -0.012342418543994427,\n",
       " 0.03431442007422447,\n",
       " 0.021102122962474823,\n",
       " 0.03984649479389191,\n",
       " 0.03166380152106285,\n",
       " -0.03359023854136467,\n",
       " 0.03164784237742424,\n",
       " -0.0033045399468392134,\n",
       " 0.00464182673022151,\n",
       " 0.037589337676763535,\n",
       " -0.059244606643915176,\n",
       " 0.007028385065495968,\n",
       " 0.003808708628639579,\n",
       " -0.025788886472582817,\n",
       " -0.021203340962529182,\n",
       " 0.02269122377038002,\n",
       " -0.02177296206355095,\n",
       " -0.27963781356811523,\n",
       " 0.007267402485013008,\n",
       " 0.0210720244795084,\n",
       " 0.04519748315215111,\n",
       " -0.02053448185324669,\n",
       " 0.02431369759142399,\n",
       " -0.0006137037998996675,\n",
       " -0.01185703556984663,\n",
       " -0.03296775743365288,\n",
       " 0.03584311157464981,\n",
       " 0.03128174692392349,\n",
       " 0.06373952329158783,\n",
       " 0.04654783755540848,\n",
       " -0.014470522291958332,\n",
       " 0.015869710594415665,\n",
       " 0.03397125378251076,\n",
       " 0.01805957593023777,\n",
       " 0.0022987546399235725,\n",
       " 0.01654987223446369,\n",
       " -0.021714884787797928,\n",
       " -0.03485995903611183,\n",
       " -0.0008649451192468405,\n",
       " 0.15126043558120728,\n",
       " -0.024536754935979843,\n",
       " 0.030671218410134315,\n",
       " -0.00731823081150651,\n",
       " -0.0061354562640190125,\n",
       " 0.06415145099163055,\n",
       " 0.01602148450911045,\n",
       " -0.03636445105075836,\n",
       " 0.019898604601621628,\n",
       " -0.021172352135181427,\n",
       " 0.048294126987457275,\n",
       " -0.04478098452091217,\n",
       " 0.0476338230073452,\n",
       " 0.000774955959059298,\n",
       " -0.005927947349846363,\n",
       " 0.06154267489910126,\n",
       " 0.023968402296304703,\n",
       " 0.01330501213669777,\n",
       " 0.02268449403345585,\n",
       " 0.01453809067606926,\n",
       " -0.05215905234217644,\n",
       " -0.03274965658783913,\n",
       " 0.08583346009254456,\n",
       " -0.0037248358130455017,\n",
       " 0.0013494329759851098,\n",
       " 0.040919892489910126,\n",
       " 0.011659668758511543,\n",
       " 0.058436185121536255,\n",
       " -0.022286172956228256,\n",
       " -0.011520695872604847,\n",
       " 0.0047057149931788445,\n",
       " 0.04718261584639549,\n",
       " -0.0019179013324901462,\n",
       " 0.0330093614757061,\n",
       " -0.03505057469010353,\n",
       " -0.0207365732640028,\n",
       " -0.009222202003002167,\n",
       " 0.014618288725614548,\n",
       " 0.006456065457314253,\n",
       " 0.0010978657519444823,\n",
       " 0.010224000550806522,\n",
       " 0.08537217974662781,\n",
       " 0.03883953392505646]"
      ]
     },
     "execution_count": 16,
     "metadata": {},
     "output_type": "execute_result"
    }
   ],
   "source": [
    "embedding"
   ]
  },
  {
   "cell_type": "code",
   "execution_count": null,
   "metadata": {},
   "outputs": [],
   "source": []
  }
 ],
 "metadata": {
  "kernelspec": {
   "display_name": "langchain_venv",
   "language": "python",
   "name": "python3"
  },
  "language_info": {
   "codemirror_mode": {
    "name": "ipython",
    "version": 3
   },
   "file_extension": ".py",
   "mimetype": "text/x-python",
   "name": "python",
   "nbconvert_exporter": "python",
   "pygments_lexer": "ipython3",
   "version": "3.11.11"
  }
 },
 "nbformat": 4,
 "nbformat_minor": 2
}
