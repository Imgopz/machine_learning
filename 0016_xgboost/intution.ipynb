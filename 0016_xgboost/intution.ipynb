{
 "cells": [
  {
   "cell_type": "markdown",
   "metadata": {},
   "source": [
    "### XG Boost"
   ]
  },
  {
   "cell_type": "markdown",
   "metadata": {},
   "source": [
    "#### Classification\n",
    "\n",
    "1. Construct a base model (output prob is 0.5)\n",
    "2. Construct a DT with root. (Calculate the residual) R1.\n",
    "3. Calculate similarity weight\n",
    "\n",
    "$$\n",
    "\\displaystyle w = \\frac{\\sum (Residuals)^2}{\\sum P_r (1 - P_r) + \\lambda}\n",
    "$$\n",
    "\n",
    "4. Calculate Gain"
   ]
  },
  {
   "cell_type": "markdown",
   "metadata": {},
   "source": [
    "Construct decision tree with different features and calcluate the similarity weight for left right and root nodes, and sum em all and subtrct the root sw to caculate the Gain, and select the max gain DT."
   ]
  },
  {
   "cell_type": "markdown",
   "metadata": {},
   "source": [
    "$$\n",
    "\\displaystyle log(odds) = log( \\frac{P}{1-P} )\n",
    "$$\n"
   ]
  },
  {
   "cell_type": "markdown",
   "metadata": {},
   "source": [
    "whenever new data comes, it will be passed to log of odds"
   ]
  },
  {
   "cell_type": "markdown",
   "metadata": {},
   "source": [
    "$$\n",
    "\\displaystyle \\hat{y} = \\sigma \\left( \\log(\\text{odds}) + \\alpha \\cdot \\text{sw}(\\text{leaf}_{\\text{node}}) \\right)\n",
    "\n",
    "$$\n",
    "\n",
    "\n",
    "if it is multiclass classfication it will be softmax instead of sigmoid"
   ]
  },
  {
   "cell_type": "markdown",
   "metadata": {},
   "source": [
    "Calculate R2\n",
    "\n",
    "Construct the next DT and do the same and so on..."
   ]
  },
  {
   "cell_type": "markdown",
   "metadata": {},
   "source": [
    "$$\n",
    "\\text{o/p} = \\sigma \\left( \\text{Base learner} + \\alpha_1 \\cdot \\text{DT}_1 + \\alpha_2 \\cdot \\text{DT}_2 + \\dots \\right)\n",
    "$$\n"
   ]
  },
  {
   "cell_type": "markdown",
   "metadata": {},
   "source": [
    "$$\n",
    "\\displaystyle \\sum P_r (1 - P_r) \n",
    "$$\n",
    "\n",
    "This is called Cover value, when its less than eg. 0.25 (some threshold) we can stop splitting the tree"
   ]
  },
  {
   "cell_type": "markdown",
   "metadata": {},
   "source": [
    "#### Regression"
   ]
  },
  {
   "cell_type": "markdown",
   "metadata": {},
   "source": [
    "1. Create Based model and the o/p will be average\n",
    "2. Cacluate Residual R1\n",
    "3. Construct DT using { Xi, R1} based on some feature\n",
    "4. Calculate the similarity weight from root to leaf nodes\n",
    "\n",
    "$$\n",
    "\\displaystyle \\text{Similarity Weight} = \\frac{\\sum (Residuals)^2}{\\text{Number of Residuals} + \\lambda}\n",
    "$$\n",
    "\n",
    "5. Calculate the Gain.\n",
    "\n",
    "$$\n",
    "\\text{Gain} = \\text{SW}_{\\text{left\\_child}} + \\text{SW}_{\\text{right\\_child}} - \\text{SW}_{\\text{root}}\n",
    "$$\n"
   ]
  },
  {
   "cell_type": "markdown",
   "metadata": {},
   "source": [
    "$$\n",
    "\\text{o/p} =   \\text{Base learner} + \\alpha_1 \\cdot \\text{DT}_1 + \\alpha_2 \\cdot \\text{DT}_2 + \\dots\n",
    "$$\n",
    "\n",
    "and so on..."
   ]
  },
  {
   "cell_type": "code",
   "execution_count": null,
   "metadata": {},
   "outputs": [],
   "source": []
  }
 ],
 "metadata": {
  "kernelspec": {
   "display_name": "base",
   "language": "python",
   "name": "python3"
  },
  "language_info": {
   "codemirror_mode": {
    "name": "ipython",
    "version": 3
   },
   "file_extension": ".py",
   "mimetype": "text/x-python",
   "name": "python",
   "nbconvert_exporter": "python",
   "pygments_lexer": "ipython3",
   "version": "3.12.7"
  }
 },
 "nbformat": 4,
 "nbformat_minor": 2
}
