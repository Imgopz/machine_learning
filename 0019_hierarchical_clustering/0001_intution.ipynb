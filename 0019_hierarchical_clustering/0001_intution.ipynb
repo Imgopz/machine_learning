{
 "cells": [
  {
   "cell_type": "code",
   "execution_count": 2,
   "metadata": {},
   "outputs": [
    {
     "data": {
      "text/html": [
       "<img src=\"hc.png\" width=\"700\"/>"
      ],
      "text/plain": [
       "<IPython.core.display.Image object>"
      ]
     },
     "execution_count": 2,
     "metadata": {},
     "output_type": "execute_result"
    }
   ],
   "source": [
    " # import image module \n",
    "from IPython.display import Image  \n",
    "# get the image \n",
    "Image(url=\"hc.png\", width=700) "
   ]
  },
  {
   "cell_type": "markdown",
   "metadata": {},
   "source": [
    "1. Each datapoint will be considered as separate cluster.\n",
    "2. Find the nearest point and create a new cluster.\n",
    "3. Keep on doing the same process until we get a single cluster.\n",
    "\n",
    "- Above diagram is called dendrogram."
   ]
  },
  {
   "cell_type": "code",
   "execution_count": 3,
   "metadata": {},
   "outputs": [
    {
     "data": {
      "text/html": [
       "<img src=\"types.png\" width=\"700\"/>"
      ],
      "text/plain": [
       "<IPython.core.display.Image object>"
      ]
     },
     "execution_count": 3,
     "metadata": {},
     "output_type": "execute_result"
    }
   ],
   "source": [
    " # import image module \n",
    "from IPython.display import Image  \n",
    "# get the image \n",
    "Image(url=\"types.png\", width=700) "
   ]
  },
  {
   "cell_type": "code",
   "execution_count": 5,
   "metadata": {},
   "outputs": [
    {
     "data": {
      "text/html": [
       "<img src=\"clustering.png\" width=\"400\"/>"
      ],
      "text/plain": [
       "<IPython.core.display.Image object>"
      ]
     },
     "execution_count": 5,
     "metadata": {},
     "output_type": "execute_result"
    }
   ],
   "source": [
    " # import image module \n",
    "from IPython.display import Image  \n",
    "# get the image \n",
    "Image(url=\"clustering.png\", width=400) "
   ]
  },
  {
   "cell_type": "code",
   "execution_count": 7,
   "metadata": {},
   "outputs": [
    {
     "data": {
      "text/html": [
       "<img src=\"number_of_cluster.png\" width=\"400\"/>"
      ],
      "text/plain": [
       "<IPython.core.display.Image object>"
      ]
     },
     "execution_count": 7,
     "metadata": {},
     "output_type": "execute_result"
    }
   ],
   "source": [
    " # import image module \n",
    "from IPython.display import Image  \n",
    "# get the image \n",
    "Image(url=\"number_of_cluster.png\", width=400) \n",
    "\n",
    "# Threshold helps to decide the number of cluster"
   ]
  },
  {
   "cell_type": "markdown",
   "metadata": {},
   "source": [
    "If dataset size is Huge -> Kmeans (Numerical Data)\n",
    "\n",
    "For smaller datasets -> Hierarchical_clustering (Any Data) (Cosine Similarity)\n",
    "\n",
    "Centroids -> Elbow method -> some times its dificult to find no. of centroids in kmeans"
   ]
  }
 ],
 "metadata": {
  "kernelspec": {
   "display_name": "base",
   "language": "python",
   "name": "python3"
  },
  "language_info": {
   "codemirror_mode": {
    "name": "ipython",
    "version": 3
   },
   "file_extension": ".py",
   "mimetype": "text/x-python",
   "name": "python",
   "nbconvert_exporter": "python",
   "pygments_lexer": "ipython3",
   "version": "3.12.7"
  }
 },
 "nbformat": 4,
 "nbformat_minor": 2
}
